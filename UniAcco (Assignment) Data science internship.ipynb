{
 "cells": [
  {
   "cell_type": "code",
   "execution_count": 1,
   "id": "e17ec033",
   "metadata": {},
   "outputs": [],
   "source": [
    "import pandas as pd\n",
    "from sklearn.model_selection import train_test_split\n",
    "from sklearn.pipeline import make_pipeline\n",
    "from sklearn.preprocessing import OrdinalEncoder, LabelEncoder\n",
    "from sklearn.ensemble import RandomForestClassifier\n",
    "from sklearn.metrics import accuracy_score, precision_score, recall_score, f1_score\n",
    "from sklearn.impute import SimpleImputer\n"
   ]
  },
  {
   "cell_type": "code",
   "execution_count": 2,
   "id": "2d4f90a9",
   "metadata": {},
   "outputs": [],
   "source": [
    "# Load the dataset\n",
    "\n",
    "url = 'https://docs.google.com/spreadsheets/d/1rK1CLqpsd6JfSBLk9nRE-f0NzDc9lEXgxZ-cKjxIN_s/export?format=csv'\n",
    "\n",
    "df = pd.read_csv(url, na_values=['9b2d5b4678781e53038e91ea5324530a03f27dc1d0e5f6c9bc9d493a23be9de0'])\n"
   ]
  },
  {
   "cell_type": "code",
   "execution_count": 3,
   "id": "064a21b4",
   "metadata": {},
   "outputs": [],
   "source": [
    "# Data cleaning and preprocessing\n",
    "\n",
    "df.dropna(subset=['status'], inplace=True)  # Drop rows with missing status\n",
    "\n",
    "df.drop(df[df['status'].isin(['OPEN', 'LOST'])].index, inplace=True)  # Drop rows with non-WON/LOST status\n",
    "\n",
    "X = df.drop(['status', 'lead_id'], axis=1)  # Input features\n",
    "\n",
    "y = df['status']  # Output target\n",
    "\n",
    "encoder = OrdinalEncoder()\n",
    "\n",
    "X = encoder.fit_transform(X)  # Encode categorical features\n",
    "\n",
    "imputer = SimpleImputer(strategy='mean')  # create an imputer object\n",
    "\n",
    "X_train, X_test, y_train, y_test = train_test_split(X, y, test_size=0.3, random_state=42)\n",
    "\n",
    "X_train_imputed = imputer.fit_transform(X_train)  # impute missing values in the training data\n",
    "\n",
    "X_test_imputed = imputer.transform(X_test)  # impute missing values in the testing data\n",
    "\n",
    "ordinal_encoder = OrdinalEncoder()\n",
    "\n",
    "y_train = ordinal_encoder.fit_transform(y_train.values.reshape(-1, 1)).ravel()  # Encode the output target as numerical values\n",
    "\n",
    "y_test = ordinal_encoder.transform(y_test.values.reshape(-1, 1)).ravel()  # Encode the output target as numerical values\n"
   ]
  },
  {
   "cell_type": "code",
   "execution_count": 4,
   "id": "adafa3c8",
   "metadata": {},
   "outputs": [],
   "source": [
    "# Train a Random Forest Classifier model\n",
    "\n",
    "try:\n",
    "\n",
    "    model = make_pipeline(RandomForestClassifier(n_estimators=100, random_state=42))\n",
    "\n",
    "    model.fit(X_train_imputed, y_train)\n",
    "\n",
    "except Exception as e:\n",
    "\n",
    "    print(f\"An error occurred while fitting the model: {str(e)}\")\n"
   ]
  },
  {
   "cell_type": "code",
   "execution_count": 5,
   "id": "e113bb12",
   "metadata": {},
   "outputs": [
    {
     "name": "stdout",
     "output_type": "stream",
     "text": [
      "Accuracy: 0.9336633663366337\n",
      "Precision: 0.9145224502288938\n",
      "Recall: 0.9336633663366337\n",
      "F1 score: 0.9116237151008717\n"
     ]
    },
    {
     "name": "stderr",
     "output_type": "stream",
     "text": [
      "C:\\Users\\Ajayraj\\anaconda3\\lib\\site-packages\\sklearn\\metrics\\_classification.py:1334: UndefinedMetricWarning: Precision is ill-defined and being set to 0.0 in labels with no predicted samples. Use `zero_division` parameter to control this behavior.\n",
      "  _warn_prf(average, modifier, msg_start, len(result))\n"
     ]
    }
   ],
   "source": [
    "# Evaluate the performance of the model\n",
    "\n",
    "y_pred = model.predict(X_test_imputed)\n",
    "\n",
    "print('Accuracy:', accuracy_score(y_test, y_pred))\n",
    "\n",
    "print('Precision:', precision_score(y_test, y_pred, average='weighted'))\n",
    "\n",
    "print('Recall:', recall_score(y_test, y_pred, average='weighted'))\n",
    "\n",
    "print('F1 score:', f1_score(y_test, y_pred, average='weighted'))"
   ]
  },
  {
   "cell_type": "code",
   "execution_count": null,
   "id": "8d968da8",
   "metadata": {},
   "outputs": [],
   "source": []
  }
 ],
 "metadata": {
  "kernelspec": {
   "display_name": "Python 3 (ipykernel)",
   "language": "python",
   "name": "python3"
  },
  "language_info": {
   "codemirror_mode": {
    "name": "ipython",
    "version": 3
   },
   "file_extension": ".py",
   "mimetype": "text/x-python",
   "name": "python",
   "nbconvert_exporter": "python",
   "pygments_lexer": "ipython3",
   "version": "3.9.12"
  }
 },
 "nbformat": 4,
 "nbformat_minor": 5
}
